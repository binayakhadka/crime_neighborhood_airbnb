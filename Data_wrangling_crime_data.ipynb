{
 "cells": [
  {
   "cell_type": "code",
   "execution_count": 12,
   "id": "57ad8b4a",
   "metadata": {},
   "outputs": [],
   "source": [
    "import pandas as pd\n",
    "import seaborn as sns\n",
    "import matplotlib.pyplot as plt\n",
    "\n",
    "import collections\n",
    "\n",
    "from wordcloud import WordCloud, STOPWORDS\n",
    "import folium\n",
    "from folium import Choropleth, Circle, Marker\n",
    "from folium.plugins import HeatMap, MarkerCluster\n",
    "\n",
    "import warnings\n",
    "warnings.filterwarnings('ignore')"
   ]
  },
  {
   "cell_type": "code",
   "execution_count": 13,
   "id": "bd068382",
   "metadata": {},
   "outputs": [],
   "source": [
    "df = pd.read_csv('Crime_Reports_Austin.csv')"
   ]
  },
  {
   "cell_type": "code",
   "execution_count": 14,
   "id": "39aace98",
   "metadata": {},
   "outputs": [
    {
     "data": {
      "text/html": [
       "<div>\n",
       "<style scoped>\n",
       "    .dataframe tbody tr th:only-of-type {\n",
       "        vertical-align: middle;\n",
       "    }\n",
       "\n",
       "    .dataframe tbody tr th {\n",
       "        vertical-align: top;\n",
       "    }\n",
       "\n",
       "    .dataframe thead th {\n",
       "        text-align: right;\n",
       "    }\n",
       "</style>\n",
       "<table border=\"1\" class=\"dataframe\">\n",
       "  <thead>\n",
       "    <tr style=\"text-align: right;\">\n",
       "      <th></th>\n",
       "      <th>Incident Number</th>\n",
       "      <th>Highest Offense Description</th>\n",
       "      <th>Highest Offense Code</th>\n",
       "      <th>Family Violence</th>\n",
       "      <th>Occurred Date Time</th>\n",
       "      <th>Occurred Date</th>\n",
       "      <th>Occurred Time</th>\n",
       "      <th>Report Date Time</th>\n",
       "      <th>Report Date</th>\n",
       "      <th>Report Time</th>\n",
       "      <th>...</th>\n",
       "      <th>Y-coordinate</th>\n",
       "      <th>Latitude</th>\n",
       "      <th>Longitude</th>\n",
       "      <th>Location</th>\n",
       "      <th>Zip Codes</th>\n",
       "      <th>Single Member Council Districts</th>\n",
       "      <th>BOUNDARIES_single_member_districts</th>\n",
       "      <th>Zoning Review Cases_data</th>\n",
       "      <th>Neighborhood Planning Areas</th>\n",
       "      <th>Boundaries: City of Austin Council Districts</th>\n",
       "    </tr>\n",
       "  </thead>\n",
       "  <tbody>\n",
       "    <tr>\n",
       "      <th>0</th>\n",
       "      <td>20121171927</td>\n",
       "      <td>RECKLESS DAMAGE</td>\n",
       "      <td>1401</td>\n",
       "      <td>N</td>\n",
       "      <td>04/26/2012 10:34:00 PM</td>\n",
       "      <td>04/26/2012</td>\n",
       "      <td>2234.0</td>\n",
       "      <td>04/26/2012 11:04:00 PM</td>\n",
       "      <td>04/26/2012</td>\n",
       "      <td>2304.0</td>\n",
       "      <td>...</td>\n",
       "      <td>NaN</td>\n",
       "      <td>NaN</td>\n",
       "      <td>NaN</td>\n",
       "      <td>NaN</td>\n",
       "      <td>NaN</td>\n",
       "      <td>NaN</td>\n",
       "      <td>NaN</td>\n",
       "      <td>NaN</td>\n",
       "      <td>NaN</td>\n",
       "      <td>NaN</td>\n",
       "    </tr>\n",
       "    <tr>\n",
       "      <th>1</th>\n",
       "      <td>2006471156</td>\n",
       "      <td>FAMILY DISTURBANCE</td>\n",
       "      <td>3400</td>\n",
       "      <td>N</td>\n",
       "      <td>02/16/2006 02:25:00 PM</td>\n",
       "      <td>02/16/2006</td>\n",
       "      <td>1425.0</td>\n",
       "      <td>02/16/2006 02:25:00 PM</td>\n",
       "      <td>02/16/2006</td>\n",
       "      <td>1425.0</td>\n",
       "      <td>...</td>\n",
       "      <td>NaN</td>\n",
       "      <td>NaN</td>\n",
       "      <td>NaN</td>\n",
       "      <td>NaN</td>\n",
       "      <td>NaN</td>\n",
       "      <td>NaN</td>\n",
       "      <td>NaN</td>\n",
       "      <td>NaN</td>\n",
       "      <td>NaN</td>\n",
       "      <td>NaN</td>\n",
       "    </tr>\n",
       "    <tr>\n",
       "      <th>2</th>\n",
       "      <td>20173300229</td>\n",
       "      <td>FAMILY DISTURBANCE</td>\n",
       "      <td>3400</td>\n",
       "      <td>N</td>\n",
       "      <td>11/26/2017 07:43:00 AM</td>\n",
       "      <td>11/26/2017</td>\n",
       "      <td>743.0</td>\n",
       "      <td>11/26/2017 07:43:00 AM</td>\n",
       "      <td>11/26/2017</td>\n",
       "      <td>743.0</td>\n",
       "      <td>...</td>\n",
       "      <td>NaN</td>\n",
       "      <td>NaN</td>\n",
       "      <td>NaN</td>\n",
       "      <td>NaN</td>\n",
       "      <td>NaN</td>\n",
       "      <td>NaN</td>\n",
       "      <td>NaN</td>\n",
       "      <td>NaN</td>\n",
       "      <td>NaN</td>\n",
       "      <td>NaN</td>\n",
       "    </tr>\n",
       "    <tr>\n",
       "      <th>3</th>\n",
       "      <td>20045044338</td>\n",
       "      <td>TAMPERING WITH ID NUMBER</td>\n",
       "      <td>2719</td>\n",
       "      <td>N</td>\n",
       "      <td>09/14/2004 03:32:00 PM</td>\n",
       "      <td>09/14/2004</td>\n",
       "      <td>1532.0</td>\n",
       "      <td>09/14/2004 03:32:00 PM</td>\n",
       "      <td>09/14/2004</td>\n",
       "      <td>1532.0</td>\n",
       "      <td>...</td>\n",
       "      <td>NaN</td>\n",
       "      <td>NaN</td>\n",
       "      <td>NaN</td>\n",
       "      <td>NaN</td>\n",
       "      <td>NaN</td>\n",
       "      <td>NaN</td>\n",
       "      <td>NaN</td>\n",
       "      <td>NaN</td>\n",
       "      <td>NaN</td>\n",
       "      <td>NaN</td>\n",
       "    </tr>\n",
       "    <tr>\n",
       "      <th>4</th>\n",
       "      <td>2006960811</td>\n",
       "      <td>FAMILY DISTURBANCE</td>\n",
       "      <td>3400</td>\n",
       "      <td>N</td>\n",
       "      <td>04/06/2006 10:29:00 AM</td>\n",
       "      <td>04/06/2006</td>\n",
       "      <td>1029.0</td>\n",
       "      <td>04/06/2006 10:29:00 AM</td>\n",
       "      <td>04/06/2006</td>\n",
       "      <td>1029.0</td>\n",
       "      <td>...</td>\n",
       "      <td>NaN</td>\n",
       "      <td>NaN</td>\n",
       "      <td>NaN</td>\n",
       "      <td>NaN</td>\n",
       "      <td>NaN</td>\n",
       "      <td>NaN</td>\n",
       "      <td>NaN</td>\n",
       "      <td>NaN</td>\n",
       "      <td>NaN</td>\n",
       "      <td>NaN</td>\n",
       "    </tr>\n",
       "  </tbody>\n",
       "</table>\n",
       "<p>5 rows × 33 columns</p>\n",
       "</div>"
      ],
      "text/plain": [
       "   Incident Number Highest Offense Description  Highest Offense Code  \\\n",
       "0      20121171927             RECKLESS DAMAGE                  1401   \n",
       "1       2006471156          FAMILY DISTURBANCE                  3400   \n",
       "2      20173300229          FAMILY DISTURBANCE                  3400   \n",
       "3      20045044338    TAMPERING WITH ID NUMBER                  2719   \n",
       "4       2006960811          FAMILY DISTURBANCE                  3400   \n",
       "\n",
       "  Family Violence      Occurred Date Time Occurred Date  Occurred Time  \\\n",
       "0               N  04/26/2012 10:34:00 PM    04/26/2012         2234.0   \n",
       "1               N  02/16/2006 02:25:00 PM    02/16/2006         1425.0   \n",
       "2               N  11/26/2017 07:43:00 AM    11/26/2017          743.0   \n",
       "3               N  09/14/2004 03:32:00 PM    09/14/2004         1532.0   \n",
       "4               N  04/06/2006 10:29:00 AM    04/06/2006         1029.0   \n",
       "\n",
       "         Report Date Time Report Date  Report Time  ... Y-coordinate Latitude  \\\n",
       "0  04/26/2012 11:04:00 PM  04/26/2012       2304.0  ...          NaN      NaN   \n",
       "1  02/16/2006 02:25:00 PM  02/16/2006       1425.0  ...          NaN      NaN   \n",
       "2  11/26/2017 07:43:00 AM  11/26/2017        743.0  ...          NaN      NaN   \n",
       "3  09/14/2004 03:32:00 PM  09/14/2004       1532.0  ...          NaN      NaN   \n",
       "4  04/06/2006 10:29:00 AM  04/06/2006       1029.0  ...          NaN      NaN   \n",
       "\n",
       "   Longitude  Location Zip Codes Single Member Council Districts  \\\n",
       "0        NaN       NaN       NaN                             NaN   \n",
       "1        NaN       NaN       NaN                             NaN   \n",
       "2        NaN       NaN       NaN                             NaN   \n",
       "3        NaN       NaN       NaN                             NaN   \n",
       "4        NaN       NaN       NaN                             NaN   \n",
       "\n",
       "  BOUNDARIES_single_member_districts  Zoning Review Cases_data  \\\n",
       "0                                NaN                       NaN   \n",
       "1                                NaN                       NaN   \n",
       "2                                NaN                       NaN   \n",
       "3                                NaN                       NaN   \n",
       "4                                NaN                       NaN   \n",
       "\n",
       "  Neighborhood Planning Areas Boundaries: City of Austin Council Districts  \n",
       "0                         NaN                                          NaN  \n",
       "1                         NaN                                          NaN  \n",
       "2                         NaN                                          NaN  \n",
       "3                         NaN                                          NaN  \n",
       "4                         NaN                                          NaN  \n",
       "\n",
       "[5 rows x 33 columns]"
      ]
     },
     "execution_count": 14,
     "metadata": {},
     "output_type": "execute_result"
    }
   ],
   "source": [
    "df.head()"
   ]
  },
  {
   "cell_type": "code",
   "execution_count": 4,
   "id": "e08fbcc8",
   "metadata": {},
   "outputs": [
    {
     "name": "stdout",
     "output_type": "stream",
     "text": [
      "<class 'pandas.core.frame.DataFrame'>\n",
      "RangeIndex: 2377481 entries, 0 to 2377480\n",
      "Data columns (total 33 columns):\n",
      " #   Column                                        Dtype  \n",
      "---  ------                                        -----  \n",
      " 0   Incident Number                               int64  \n",
      " 1   Highest Offense Description                   object \n",
      " 2   Highest Offense Code                          int64  \n",
      " 3   Family Violence                               object \n",
      " 4   Occurred Date Time                            object \n",
      " 5   Occurred Date                                 object \n",
      " 6   Occurred Time                                 float64\n",
      " 7   Report Date Time                              object \n",
      " 8   Report Date                                   object \n",
      " 9   Report Time                                   float64\n",
      " 10  Location Type                                 object \n",
      " 11  Address                                       object \n",
      " 12  Zip Code                                      float64\n",
      " 13  Council District                              float64\n",
      " 14  APD Sector                                    object \n",
      " 15  APD District                                  object \n",
      " 16  PRA                                           object \n",
      " 17  Census Tract                                  float64\n",
      " 18  Clearance Status                              object \n",
      " 19  Clearance Date                                object \n",
      " 20  UCR Category                                  object \n",
      " 21  Category Description                          object \n",
      " 22  X-coordinate                                  float64\n",
      " 23  Y-coordinate                                  float64\n",
      " 24  Latitude                                      float64\n",
      " 25  Longitude                                     float64\n",
      " 26  Location                                      object \n",
      " 27  Zip Codes                                     float64\n",
      " 28  Single Member Council Districts               float64\n",
      " 29  BOUNDARIES_single_member_districts            float64\n",
      " 30  Zoning Review Cases_data                      float64\n",
      " 31  Neighborhood Planning Areas                   float64\n",
      " 32  Boundaries: City of Austin Council Districts  float64\n",
      "dtypes: float64(15), int64(2), object(16)\n",
      "memory usage: 598.6+ MB\n"
     ]
    }
   ],
   "source": [
    "df.info()"
   ]
  },
  {
   "cell_type": "markdown",
   "id": "cc2abf3c",
   "metadata": {},
   "source": [
    "**Check for all the missing values and count them.**"
   ]
  },
  {
   "cell_type": "code",
   "execution_count": 5,
   "id": "ad7e09e9",
   "metadata": {},
   "outputs": [
    {
     "data": {
      "text/plain": [
       "Category Description                            1504295\n",
       "UCR Category                                    1504295\n",
       "Zoning Review Cases_data                        1139950\n",
       "Neighborhood Planning Areas                      693396\n",
       "Clearance Status                                 606136\n",
       "Clearance Date                                   337704\n",
       "Single Member Council Districts                   45688\n",
       "BOUNDARIES_single_member_districts                43992\n",
       "Boundaries: City of Austin Council Districts      43844\n",
       "Council District                                  41985\n",
       "Zip Codes                                         37606\n",
       "Latitude                                          37525\n",
       "Location                                          37525\n",
       "Longitude                                         37525\n",
       "Location Type                                     19007\n",
       "Census Tract                                      17996\n",
       "Zip Code                                           9922\n",
       "PRA                                                6496\n",
       "X-coordinate                                       5969\n",
       "Y-coordinate                                       5962\n",
       "APD District                                       5068\n",
       "APD Sector                                         4444\n",
       "Occurred Date Time                                  137\n",
       "Occurred Time                                        60\n",
       "Address                                              13\n",
       "Report Time                                           1\n",
       "Report Date Time                                      1\n",
       "Highest Offense Description                           0\n",
       "Report Date                                           0\n",
       "Occurred Date                                         0\n",
       "Family Violence                                       0\n",
       "Highest Offense Code                                  0\n",
       "Incident Number                                       0\n",
       "dtype: int64"
      ]
     },
     "execution_count": 5,
     "metadata": {},
     "output_type": "execute_result"
    }
   ],
   "source": [
    "df.isna().sum().sort_values(ascending=False)"
   ]
  },
  {
   "cell_type": "markdown",
   "id": "a05fe100",
   "metadata": {},
   "source": [
    "**Let's select only those columns that we need.**"
   ]
  },
  {
   "cell_type": "code",
   "execution_count": 6,
   "id": "f27d06bd",
   "metadata": {},
   "outputs": [
    {
     "data": {
      "text/html": [
       "<div>\n",
       "<style scoped>\n",
       "    .dataframe tbody tr th:only-of-type {\n",
       "        vertical-align: middle;\n",
       "    }\n",
       "\n",
       "    .dataframe tbody tr th {\n",
       "        vertical-align: top;\n",
       "    }\n",
       "\n",
       "    .dataframe thead th {\n",
       "        text-align: right;\n",
       "    }\n",
       "</style>\n",
       "<table border=\"1\" class=\"dataframe\">\n",
       "  <thead>\n",
       "    <tr style=\"text-align: right;\">\n",
       "      <th></th>\n",
       "      <th>Incident Number</th>\n",
       "      <th>Highest Offense Code</th>\n",
       "      <th>Highest Offense Description</th>\n",
       "      <th>Occurred Date Time</th>\n",
       "      <th>Occurred Date</th>\n",
       "      <th>Address</th>\n",
       "      <th>Zip Code</th>\n",
       "      <th>Location Type</th>\n",
       "      <th>X-coordinate</th>\n",
       "      <th>Y-coordinate</th>\n",
       "      <th>Longitude</th>\n",
       "      <th>Latitude</th>\n",
       "      <th>Council District</th>\n",
       "    </tr>\n",
       "  </thead>\n",
       "  <tbody>\n",
       "    <tr>\n",
       "      <th>0</th>\n",
       "      <td>20121171927</td>\n",
       "      <td>1401</td>\n",
       "      <td>RECKLESS DAMAGE</td>\n",
       "      <td>04/26/2012 10:34:00 PM</td>\n",
       "      <td>04/26/2012</td>\n",
       "      <td>3154 HWY 71 E</td>\n",
       "      <td>NaN</td>\n",
       "      <td>RESIDENCE / HOME</td>\n",
       "      <td>NaN</td>\n",
       "      <td>NaN</td>\n",
       "      <td>NaN</td>\n",
       "      <td>NaN</td>\n",
       "      <td>NaN</td>\n",
       "    </tr>\n",
       "    <tr>\n",
       "      <th>1</th>\n",
       "      <td>2006471156</td>\n",
       "      <td>3400</td>\n",
       "      <td>FAMILY DISTURBANCE</td>\n",
       "      <td>02/16/2006 02:25:00 PM</td>\n",
       "      <td>02/16/2006</td>\n",
       "      <td>7000 DECKER 1422</td>\n",
       "      <td>NaN</td>\n",
       "      <td>RESIDENCE / HOME</td>\n",
       "      <td>NaN</td>\n",
       "      <td>NaN</td>\n",
       "      <td>NaN</td>\n",
       "      <td>NaN</td>\n",
       "      <td>NaN</td>\n",
       "    </tr>\n",
       "    <tr>\n",
       "      <th>2</th>\n",
       "      <td>20173300229</td>\n",
       "      <td>3400</td>\n",
       "      <td>FAMILY DISTURBANCE</td>\n",
       "      <td>11/26/2017 07:43:00 AM</td>\n",
       "      <td>11/26/2017</td>\n",
       "      <td>13204 LIPTON LP</td>\n",
       "      <td>NaN</td>\n",
       "      <td>RESIDENCE / HOME</td>\n",
       "      <td>NaN</td>\n",
       "      <td>NaN</td>\n",
       "      <td>NaN</td>\n",
       "      <td>NaN</td>\n",
       "      <td>NaN</td>\n",
       "    </tr>\n",
       "    <tr>\n",
       "      <th>3</th>\n",
       "      <td>20045044338</td>\n",
       "      <td>2719</td>\n",
       "      <td>TAMPERING WITH ID NUMBER</td>\n",
       "      <td>09/14/2004 03:32:00 PM</td>\n",
       "      <td>09/14/2004</td>\n",
       "      <td>3301 CR 100</td>\n",
       "      <td>NaN</td>\n",
       "      <td>NaN</td>\n",
       "      <td>NaN</td>\n",
       "      <td>NaN</td>\n",
       "      <td>NaN</td>\n",
       "      <td>NaN</td>\n",
       "      <td>NaN</td>\n",
       "    </tr>\n",
       "    <tr>\n",
       "      <th>4</th>\n",
       "      <td>2006960811</td>\n",
       "      <td>3400</td>\n",
       "      <td>FAMILY DISTURBANCE</td>\n",
       "      <td>04/06/2006 10:29:00 AM</td>\n",
       "      <td>04/06/2006</td>\n",
       "      <td>5005 W FRANCES PL</td>\n",
       "      <td>NaN</td>\n",
       "      <td>RESIDENCE / HOME</td>\n",
       "      <td>NaN</td>\n",
       "      <td>NaN</td>\n",
       "      <td>NaN</td>\n",
       "      <td>NaN</td>\n",
       "      <td>NaN</td>\n",
       "    </tr>\n",
       "  </tbody>\n",
       "</table>\n",
       "</div>"
      ],
      "text/plain": [
       "   Incident Number  Highest Offense Code Highest Offense Description  \\\n",
       "0      20121171927                  1401             RECKLESS DAMAGE   \n",
       "1       2006471156                  3400          FAMILY DISTURBANCE   \n",
       "2      20173300229                  3400          FAMILY DISTURBANCE   \n",
       "3      20045044338                  2719    TAMPERING WITH ID NUMBER   \n",
       "4       2006960811                  3400          FAMILY DISTURBANCE   \n",
       "\n",
       "       Occurred Date Time Occurred Date            Address  Zip Code  \\\n",
       "0  04/26/2012 10:34:00 PM    04/26/2012      3154 HWY 71 E       NaN   \n",
       "1  02/16/2006 02:25:00 PM    02/16/2006   7000 DECKER 1422       NaN   \n",
       "2  11/26/2017 07:43:00 AM    11/26/2017    13204 LIPTON LP       NaN   \n",
       "3  09/14/2004 03:32:00 PM    09/14/2004        3301 CR 100       NaN   \n",
       "4  04/06/2006 10:29:00 AM    04/06/2006  5005 W FRANCES PL       NaN   \n",
       "\n",
       "      Location Type  X-coordinate  Y-coordinate  Longitude  Latitude  \\\n",
       "0  RESIDENCE / HOME           NaN           NaN        NaN       NaN   \n",
       "1  RESIDENCE / HOME           NaN           NaN        NaN       NaN   \n",
       "2  RESIDENCE / HOME           NaN           NaN        NaN       NaN   \n",
       "3               NaN           NaN           NaN        NaN       NaN   \n",
       "4  RESIDENCE / HOME           NaN           NaN        NaN       NaN   \n",
       "\n",
       "   Council District  \n",
       "0               NaN  \n",
       "1               NaN  \n",
       "2               NaN  \n",
       "3               NaN  \n",
       "4               NaN  "
      ]
     },
     "execution_count": 6,
     "metadata": {},
     "output_type": "execute_result"
    }
   ],
   "source": [
    "column =['Incident Number', \n",
    "         'Highest Offense Code', \n",
    "         'Highest Offense Description', \n",
    "         'Occurred Date Time', \n",
    "         'Occurred Date', \n",
    "         'Address', \n",
    "         'Zip Code', \n",
    "         'Location Type', \n",
    "         'X-coordinate', \n",
    "         'Y-coordinate', \n",
    "         'Longitude', \n",
    "         'Latitude', \n",
    "         'Council District']\n",
    "\n",
    "df1 = df.loc[:,column]\n",
    "df1.head()"
   ]
  },
  {
   "cell_type": "code",
   "execution_count": 7,
   "id": "4e1fb115",
   "metadata": {},
   "outputs": [
    {
     "data": {
      "text/plain": [
       "Council District               41985\n",
       "Longitude                      37525\n",
       "Latitude                       37525\n",
       "Location Type                  19007\n",
       "Zip Code                        9922\n",
       "X-coordinate                    5969\n",
       "Y-coordinate                    5962\n",
       "Occurred Date Time               137\n",
       "Address                           13\n",
       "Incident Number                    0\n",
       "Highest Offense Code               0\n",
       "Highest Offense Description        0\n",
       "Occurred Date                      0\n",
       "dtype: int64"
      ]
     },
     "execution_count": 7,
     "metadata": {},
     "output_type": "execute_result"
    }
   ],
   "source": [
    "df1.isna().sum().sort_values(ascending=False)"
   ]
  },
  {
   "cell_type": "code",
   "execution_count": 8,
   "id": "183f446f",
   "metadata": {},
   "outputs": [
    {
     "data": {
      "text/plain": [
       "(2377481, 13)"
      ]
     },
     "execution_count": 8,
     "metadata": {},
     "output_type": "execute_result"
    }
   ],
   "source": [
    "df1.shape"
   ]
  },
  {
   "cell_type": "markdown",
   "id": "3a138ca6",
   "metadata": {},
   "source": [
    "Compared to the 2M rows, the missing rows seem insignificant.\n",
    "We'll drop the rows with missing data."
   ]
  },
  {
   "cell_type": "code",
   "execution_count": 9,
   "id": "8134fae0",
   "metadata": {},
   "outputs": [],
   "source": [
    "df1.dropna(inplace=True)"
   ]
  },
  {
   "cell_type": "code",
   "execution_count": 10,
   "id": "47dcf861",
   "metadata": {},
   "outputs": [
    {
     "name": "stdout",
     "output_type": "stream",
     "text": [
      "96.22\n"
     ]
    }
   ],
   "source": [
    "df1.shape\n",
    "print(round(2287541/2377481 *100,2))"
   ]
  },
  {
   "cell_type": "markdown",
   "id": "a6d19ed9",
   "metadata": {},
   "source": [
    "We have retained around 96% data even after dropping rows with missing values."
   ]
  },
  {
   "cell_type": "markdown",
   "id": "c3e0ee58",
   "metadata": {},
   "source": [
    "Drop all the duplicated entries based on 'Incident Number'"
   ]
  },
  {
   "cell_type": "code",
   "execution_count": 11,
   "id": "eafdf6da",
   "metadata": {},
   "outputs": [],
   "source": [
    "df1.drop_duplicates(subset=['Incident Number'], inplace=True)"
   ]
  },
  {
   "cell_type": "markdown",
   "id": "b4c598f7",
   "metadata": {},
   "source": [
    "For the date comparison we need to change dtype of columns Occurred Date Time, Occurred Date from object to datetime.\n",
    "Similarly, we are changing the data type of Zip Code and Council District into int."
   ]
  },
  {
   "cell_type": "code",
   "execution_count": null,
   "id": "15226df4",
   "metadata": {},
   "outputs": [],
   "source": [
    "df1['Zip Code'] =df1['Zip Code'].astype(int)\n",
    "df1['Council District'] =df1['Council District'].astype(int)\n",
    "df1['Occurred Date'] = pd.to_datetime(df1['Occurred Date'])  \n",
    "df1['Occurred Date Time'] = pd.to_datetime(df1['Occurred Date Time']) \n",
    "# Y['Occurred Date'] = Y['Occurred Date'].dt.strftime('%m/%d/%Y')"
   ]
  },
  {
   "cell_type": "markdown",
   "id": "103820e0",
   "metadata": {},
   "source": [
    "Let's convert the uppercased data to camel-cased."
   ]
  },
  {
   "cell_type": "code",
   "execution_count": null,
   "id": "6449b8dc",
   "metadata": {},
   "outputs": [],
   "source": [
    "df1['Highest Offense Description'] = df1['Highest Offense Description'].str.title()\n",
    "df1['Location Type'] = df1['Location Type'].str.title() \n",
    "df1['Address'] = df1['Address'].str.title()"
   ]
  },
  {
   "cell_type": "markdown",
   "id": "52354365",
   "metadata": {},
   "source": [
    "Now, extracting the month, year, week and day of month from the date."
   ]
  },
  {
   "cell_type": "code",
   "execution_count": null,
   "id": "c0ca0adc",
   "metadata": {},
   "outputs": [],
   "source": [
    "df1['Month'] = df1['Occurred Date Time'].dt.strftime('%B')\n",
    "df1['Year'] = df1['Occurred Date Time'].dt.strftime('%Y')\n",
    "df1['Week'] = df1['Occurred Date Time'].dt.day_name()\n",
    "df1[\"DayOfMonth\"] = df1['Occurred Date Time'].dt.day"
   ]
  },
  {
   "cell_type": "code",
   "execution_count": null,
   "id": "7d1fe64c",
   "metadata": {},
   "outputs": [],
   "source": [
    "df1.sample(5)"
   ]
  },
  {
   "cell_type": "markdown",
   "id": "edbc8c52",
   "metadata": {},
   "source": [
    "Replacing same entries with different description by common description. "
   ]
  },
  {
   "cell_type": "code",
   "execution_count": null,
   "id": "44379dcd",
   "metadata": {},
   "outputs": [],
   "source": [
    "mapping = {'Agg Assault':'Aggravated Assault',\n",
    "           'Agg Assault Fam/Date Violence':'Aggravated Assault',\n",
    "           'Burg Of Res - Fam/Dating Aslt':'Burglary Of Residence',\n",
    "           'Att Burglary Of Residence':'Burglary Of Residence',\n",
    "           'Theft-No Suspect/Followup':'Theft',\n",
    "           'Burglary Of Veh-No Suspect/Fu':'Burglary Of Vehicle',\n",
    "           'Assault W/Injury-Fam/Date Viol':'Assault With Injury',\n",
    "           'Assault By Threat Fam/Dating': 'Assault By Threat',\n",
    "           'Assault By Contact Fam/Dating':'Assault By Contact',\n",
    "           'Forgery By Alteration':'Forgery And Passing',\n",
    "           'Cred Card Abuse - Other': 'Debit/Credit Card Abuse',\n",
    "           'Debit Card Abuse': 'Debit/Credit Card Abuse',\n",
    "           'Criminal Mischief-No Suspect':'Criminal Mischief',\n",
    "           'Poss Controlled Sub/Narcotic': 'Narcotic Possession',\n",
    "           'Poss Controlled Sub/Syn Narc':'Narcotic Possession',\n",
    "           'Poss Controlled Sub/Other':'Narcotic Possession',\n",
    "           'Del Controlled Sub/Narcotic':'Narcotic Possession',\n",
    "           'Del Controlled Sub/Syn Narc':'Narcotic Possession',\n",
    "           'Del Controlled Sub/Other':'Narcotic Possession',\n",
    "           'Dwi': 'DWI',\n",
    "           'Dwi 2Nd': 'DWI',\n",
    "           'Criminal Trespass/Transient':'Criminal Trespass',\n",
    "           'Criminal Trespass/Hotel':'Criminal Trespass',\n",
    "           'Terroristic Threat-Fam/Dat Vio':'Terroristic Threat',\n",
    "           'Agg Robbery/Deadly Weapon': 'Aggravated Robbery',\n",
    "           'Robbery By Assault': 'Aggravated Robbery'\n",
    "          }\n",
    "\n",
    "\n",
    "df1['Highest Offense Description'] = df1['Highest Offense Description'].replace(mapping)"
   ]
  },
  {
   "cell_type": "code",
   "execution_count": null,
   "id": "565ddd1c",
   "metadata": {},
   "outputs": [],
   "source": []
  }
 ],
 "metadata": {
  "kernelspec": {
   "display_name": "Python 3 (ipykernel)",
   "language": "python",
   "name": "python3"
  },
  "language_info": {
   "codemirror_mode": {
    "name": "ipython",
    "version": 3
   },
   "file_extension": ".py",
   "mimetype": "text/x-python",
   "name": "python",
   "nbconvert_exporter": "python",
   "pygments_lexer": "ipython3",
   "version": "3.9.13"
  }
 },
 "nbformat": 4,
 "nbformat_minor": 5
}
