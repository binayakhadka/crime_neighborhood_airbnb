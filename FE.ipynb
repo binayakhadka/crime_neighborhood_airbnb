{
 "cells": [
  {
   "cell_type": "code",
   "execution_count": 254,
   "id": "d54e4793",
   "metadata": {},
   "outputs": [],
   "source": [
    "import pandas as pd\n",
    "import seaborn as sns\n",
    "import matplotlib.pyplot as plt\n",
    "import numpy as np\n",
    "from numpy import asarray\n",
    "\n",
    "from sklearn.ensemble import RandomForestRegressor\n",
    "from sklearn.linear_model import LinearRegression\n",
    "import catboost as cb\n",
    "from xgboost import XGBRegressor\n",
    "import lightgbm as lgb\n",
    "from sklearn.preprocessing import LabelEncoder\n",
    "from sklearn.model_selection import train_test_split\n",
    "from sklearn.metrics import mean_squared_error\n",
    "from sklearn.metrics import accuracy_score\n",
    "\n",
    "import warnings\n",
    "warnings.filterwarnings('ignore')"
   ]
  },
  {
   "cell_type": "code",
   "execution_count": 61,
   "id": "7f094b56",
   "metadata": {},
   "outputs": [],
   "source": [
    "crime = pd.read_csv(\"data/crimedata_cleaned.csv\")"
   ]
  },
  {
   "cell_type": "code",
   "execution_count": 252,
   "id": "c3ffd154",
   "metadata": {},
   "outputs": [
    {
     "data": {
      "text/html": [
       "<div>\n",
       "<style scoped>\n",
       "    .dataframe tbody tr th:only-of-type {\n",
       "        vertical-align: middle;\n",
       "    }\n",
       "\n",
       "    .dataframe tbody tr th {\n",
       "        vertical-align: top;\n",
       "    }\n",
       "\n",
       "    .dataframe thead th {\n",
       "        text-align: right;\n",
       "    }\n",
       "</style>\n",
       "<table border=\"1\" class=\"dataframe\">\n",
       "  <thead>\n",
       "    <tr style=\"text-align: right;\">\n",
       "      <th></th>\n",
       "      <th>incident_number</th>\n",
       "      <th>offense_code</th>\n",
       "      <th>crime_type</th>\n",
       "      <th>occurred_date_time</th>\n",
       "      <th>occurred_date</th>\n",
       "      <th>address</th>\n",
       "      <th>zip_code</th>\n",
       "      <th>location_type</th>\n",
       "      <th>x_coordinate</th>\n",
       "      <th>y_coordinate</th>\n",
       "      <th>longitude</th>\n",
       "      <th>latitude</th>\n",
       "      <th>council_district</th>\n",
       "      <th>month</th>\n",
       "      <th>year</th>\n",
       "      <th>week</th>\n",
       "      <th>dayofmonth</th>\n",
       "      <th>monthnum</th>\n",
       "    </tr>\n",
       "  </thead>\n",
       "  <tbody>\n",
       "    <tr>\n",
       "      <th>0</th>\n",
       "      <td>20228022672</td>\n",
       "      <td>601</td>\n",
       "      <td>Burglary Of Vehicle</td>\n",
       "      <td>2022-12-01 11:30:00</td>\n",
       "      <td>2022-12-01</td>\n",
       "      <td>1921 Willow Creek Dr</td>\n",
       "      <td>78741</td>\n",
       "      <td>Residence / Home</td>\n",
       "      <td>3119469</td>\n",
       "      <td>10058001</td>\n",
       "      <td>-97.727425</td>\n",
       "      <td>30.232680</td>\n",
       "      <td>3</td>\n",
       "      <td>December</td>\n",
       "      <td>2022</td>\n",
       "      <td>Thursday</td>\n",
       "      <td>1</td>\n",
       "      <td>12</td>\n",
       "    </tr>\n",
       "    <tr>\n",
       "      <th>1</th>\n",
       "      <td>20225033150</td>\n",
       "      <td>504</td>\n",
       "      <td>Burglary Of Shed/Detached Garage/Storage Unit</td>\n",
       "      <td>2022-11-07 20:00:00</td>\n",
       "      <td>2022-11-07</td>\n",
       "      <td>4113 Avenue F</td>\n",
       "      <td>78751</td>\n",
       "      <td>Parking /Drop Lot/ Garage</td>\n",
       "      <td>3118205</td>\n",
       "      <td>10084145</td>\n",
       "      <td>-97.729489</td>\n",
       "      <td>30.304627</td>\n",
       "      <td>9</td>\n",
       "      <td>November</td>\n",
       "      <td>2022</td>\n",
       "      <td>Monday</td>\n",
       "      <td>7</td>\n",
       "      <td>11</td>\n",
       "    </tr>\n",
       "    <tr>\n",
       "      <th>2</th>\n",
       "      <td>20228022553</td>\n",
       "      <td>619</td>\n",
       "      <td>Theft Of Metal</td>\n",
       "      <td>2022-12-01 23:27:00</td>\n",
       "      <td>2022-12-01</td>\n",
       "      <td>300 W 6Th St</td>\n",
       "      <td>78701</td>\n",
       "      <td>Commercial / Office Building</td>\n",
       "      <td>3113404</td>\n",
       "      <td>10071112</td>\n",
       "      <td>-97.745659</td>\n",
       "      <td>30.269110</td>\n",
       "      <td>9</td>\n",
       "      <td>December</td>\n",
       "      <td>2022</td>\n",
       "      <td>Thursday</td>\n",
       "      <td>1</td>\n",
       "      <td>12</td>\n",
       "    </tr>\n",
       "    <tr>\n",
       "      <th>3</th>\n",
       "      <td>20228022692</td>\n",
       "      <td>2405</td>\n",
       "      <td>Doc Unreasonable Noise</td>\n",
       "      <td>2022-12-03 05:00:00</td>\n",
       "      <td>2022-12-03</td>\n",
       "      <td>11704 N Lamar Blvd</td>\n",
       "      <td>78758</td>\n",
       "      <td>Residence / Home</td>\n",
       "      <td>3131678</td>\n",
       "      <td>10114301</td>\n",
       "      <td>-97.684531</td>\n",
       "      <td>30.386647</td>\n",
       "      <td>7</td>\n",
       "      <td>December</td>\n",
       "      <td>2022</td>\n",
       "      <td>Saturday</td>\n",
       "      <td>3</td>\n",
       "      <td>12</td>\n",
       "    </tr>\n",
       "    <tr>\n",
       "      <th>4</th>\n",
       "      <td>20225031961</td>\n",
       "      <td>600</td>\n",
       "      <td>Theft</td>\n",
       "      <td>2022-10-29 23:00:00</td>\n",
       "      <td>2022-10-29</td>\n",
       "      <td>708 E 6Th St</td>\n",
       "      <td>78701</td>\n",
       "      <td>Residence / Home</td>\n",
       "      <td>3116608</td>\n",
       "      <td>10070123</td>\n",
       "      <td>-97.735585</td>\n",
       "      <td>30.266186</td>\n",
       "      <td>9</td>\n",
       "      <td>October</td>\n",
       "      <td>2022</td>\n",
       "      <td>Saturday</td>\n",
       "      <td>29</td>\n",
       "      <td>10</td>\n",
       "    </tr>\n",
       "  </tbody>\n",
       "</table>\n",
       "</div>"
      ],
      "text/plain": [
       "   incident_number  offense_code  \\\n",
       "0      20228022672           601   \n",
       "1      20225033150           504   \n",
       "2      20228022553           619   \n",
       "3      20228022692          2405   \n",
       "4      20225031961           600   \n",
       "\n",
       "                                      crime_type   occurred_date_time  \\\n",
       "0                            Burglary Of Vehicle  2022-12-01 11:30:00   \n",
       "1  Burglary Of Shed/Detached Garage/Storage Unit  2022-11-07 20:00:00   \n",
       "2                                 Theft Of Metal  2022-12-01 23:27:00   \n",
       "3                         Doc Unreasonable Noise  2022-12-03 05:00:00   \n",
       "4                                          Theft  2022-10-29 23:00:00   \n",
       "\n",
       "  occurred_date               address  zip_code                 location_type  \\\n",
       "0    2022-12-01  1921 Willow Creek Dr     78741              Residence / Home   \n",
       "1    2022-11-07         4113 Avenue F     78751     Parking /Drop Lot/ Garage   \n",
       "2    2022-12-01          300 W 6Th St     78701  Commercial / Office Building   \n",
       "3    2022-12-03    11704 N Lamar Blvd     78758              Residence / Home   \n",
       "4    2022-10-29          708 E 6Th St     78701              Residence / Home   \n",
       "\n",
       "   x_coordinate  y_coordinate  longitude   latitude  council_district  \\\n",
       "0       3119469      10058001 -97.727425  30.232680                 3   \n",
       "1       3118205      10084145 -97.729489  30.304627                 9   \n",
       "2       3113404      10071112 -97.745659  30.269110                 9   \n",
       "3       3131678      10114301 -97.684531  30.386647                 7   \n",
       "4       3116608      10070123 -97.735585  30.266186                 9   \n",
       "\n",
       "      month  year      week  dayofmonth  monthnum  \n",
       "0  December  2022  Thursday           1        12  \n",
       "1  November  2022    Monday           7        11  \n",
       "2  December  2022  Thursday           1        12  \n",
       "3  December  2022  Saturday           3        12  \n",
       "4   October  2022  Saturday          29        10  "
      ]
     },
     "execution_count": 252,
     "metadata": {},
     "output_type": "execute_result"
    }
   ],
   "source": [
    "crime.head()"
   ]
  },
  {
   "cell_type": "code",
   "execution_count": 19,
   "id": "5e68399a",
   "metadata": {},
   "outputs": [],
   "source": [
    "bnb = pd.read_csv(\"data/airbnb_cleaned.csv\")"
   ]
  },
  {
   "cell_type": "code",
   "execution_count": 20,
   "id": "7a84fc34",
   "metadata": {},
   "outputs": [
    {
     "data": {
      "text/html": [
       "<div>\n",
       "<style scoped>\n",
       "    .dataframe tbody tr th:only-of-type {\n",
       "        vertical-align: middle;\n",
       "    }\n",
       "\n",
       "    .dataframe tbody tr th {\n",
       "        vertical-align: top;\n",
       "    }\n",
       "\n",
       "    .dataframe thead th {\n",
       "        text-align: right;\n",
       "    }\n",
       "</style>\n",
       "<table border=\"1\" class=\"dataframe\">\n",
       "  <thead>\n",
       "    <tr style=\"text-align: right;\">\n",
       "      <th></th>\n",
       "      <th>id</th>\n",
       "      <th>host_id</th>\n",
       "      <th>zip_code</th>\n",
       "      <th>neighborhood</th>\n",
       "      <th>property_type</th>\n",
       "      <th>room_type</th>\n",
       "      <th>accommodates</th>\n",
       "      <th>bedrooms</th>\n",
       "      <th>beds</th>\n",
       "      <th>minimum_nights</th>\n",
       "      <th>rating</th>\n",
       "      <th>price</th>\n",
       "      <th>longitude</th>\n",
       "      <th>latitude</th>\n",
       "      <th>availability_365</th>\n",
       "    </tr>\n",
       "  </thead>\n",
       "  <tbody>\n",
       "    <tr>\n",
       "      <th>0</th>\n",
       "      <td>32666944</td>\n",
       "      <td>23</td>\n",
       "      <td>78744</td>\n",
       "      <td>McKinney</td>\n",
       "      <td>Private room in home</td>\n",
       "      <td>Private room</td>\n",
       "      <td>2</td>\n",
       "      <td>1.0</td>\n",
       "      <td>1.0</td>\n",
       "      <td>2</td>\n",
       "      <td>4.77</td>\n",
       "      <td>98</td>\n",
       "      <td>-97.75119</td>\n",
       "      <td>30.17937</td>\n",
       "      <td>241</td>\n",
       "    </tr>\n",
       "    <tr>\n",
       "      <th>1</th>\n",
       "      <td>23629432</td>\n",
       "      <td>23</td>\n",
       "      <td>78744</td>\n",
       "      <td>McKinney</td>\n",
       "      <td>Private room in home</td>\n",
       "      <td>Private room</td>\n",
       "      <td>2</td>\n",
       "      <td>1.0</td>\n",
       "      <td>1.0</td>\n",
       "      <td>1</td>\n",
       "      <td>4.46</td>\n",
       "      <td>80</td>\n",
       "      <td>-97.75080</td>\n",
       "      <td>30.17879</td>\n",
       "      <td>265</td>\n",
       "    </tr>\n",
       "    <tr>\n",
       "      <th>2</th>\n",
       "      <td>39056933</td>\n",
       "      <td>23</td>\n",
       "      <td>78744</td>\n",
       "      <td>McKinney</td>\n",
       "      <td>Tent</td>\n",
       "      <td>Entire home/apt</td>\n",
       "      <td>2</td>\n",
       "      <td>1.0</td>\n",
       "      <td>1.0</td>\n",
       "      <td>1</td>\n",
       "      <td>4.94</td>\n",
       "      <td>40</td>\n",
       "      <td>-97.75093</td>\n",
       "      <td>30.18005</td>\n",
       "      <td>148</td>\n",
       "    </tr>\n",
       "    <tr>\n",
       "      <th>3</th>\n",
       "      <td>42625339</td>\n",
       "      <td>796</td>\n",
       "      <td>78725</td>\n",
       "      <td>Austins' Colony</td>\n",
       "      <td>Entire cottage</td>\n",
       "      <td>Entire home/apt</td>\n",
       "      <td>4</td>\n",
       "      <td>2.0</td>\n",
       "      <td>4.0</td>\n",
       "      <td>1</td>\n",
       "      <td>4.93</td>\n",
       "      <td>138</td>\n",
       "      <td>-97.57637</td>\n",
       "      <td>30.24147</td>\n",
       "      <td>125</td>\n",
       "    </tr>\n",
       "    <tr>\n",
       "      <th>4</th>\n",
       "      <td>17074156</td>\n",
       "      <td>2466</td>\n",
       "      <td>78702</td>\n",
       "      <td>East Downtown</td>\n",
       "      <td>Entire guesthouse</td>\n",
       "      <td>Entire home/apt</td>\n",
       "      <td>3</td>\n",
       "      <td>1.0</td>\n",
       "      <td>1.0</td>\n",
       "      <td>30</td>\n",
       "      <td>4.68</td>\n",
       "      <td>135</td>\n",
       "      <td>-97.71234</td>\n",
       "      <td>30.27651</td>\n",
       "      <td>80</td>\n",
       "    </tr>\n",
       "  </tbody>\n",
       "</table>\n",
       "</div>"
      ],
      "text/plain": [
       "         id  host_id  zip_code     neighborhood         property_type  \\\n",
       "0  32666944       23     78744         McKinney  Private room in home   \n",
       "1  23629432       23     78744         McKinney  Private room in home   \n",
       "2  39056933       23     78744         McKinney                  Tent   \n",
       "3  42625339      796     78725  Austins' Colony        Entire cottage   \n",
       "4  17074156     2466     78702    East Downtown     Entire guesthouse   \n",
       "\n",
       "         room_type  accommodates  bedrooms  beds  minimum_nights  rating  \\\n",
       "0     Private room             2       1.0   1.0               2    4.77   \n",
       "1     Private room             2       1.0   1.0               1    4.46   \n",
       "2  Entire home/apt             2       1.0   1.0               1    4.94   \n",
       "3  Entire home/apt             4       2.0   4.0               1    4.93   \n",
       "4  Entire home/apt             3       1.0   1.0              30    4.68   \n",
       "\n",
       "   price  longitude  latitude  availability_365  \n",
       "0     98  -97.75119  30.17937               241  \n",
       "1     80  -97.75080  30.17879               265  \n",
       "2     40  -97.75093  30.18005               148  \n",
       "3    138  -97.57637  30.24147               125  \n",
       "4    135  -97.71234  30.27651                80  "
      ]
     },
     "execution_count": 20,
     "metadata": {},
     "output_type": "execute_result"
    }
   ],
   "source": [
    "bnb.head()"
   ]
  },
  {
   "cell_type": "code",
   "execution_count": 42,
   "id": "e9ff41bd",
   "metadata": {},
   "outputs": [
    {
     "data": {
      "text/plain": [
       "['Burglary Of Vehicle',\n",
       " 'Theft',\n",
       " 'Family Disturbance',\n",
       " 'Criminal Mischief',\n",
       " 'Assault With Injury',\n",
       " 'Burglary Of Residence',\n",
       " 'DWI',\n",
       " 'Harassment',\n",
       " 'Disturbance - Other',\n",
       " 'Criminal Trespass',\n",
       " 'Auto Theft',\n",
       " 'Theft By Shoplifting',\n",
       " 'Assault By Contact',\n",
       " 'Custody Arrest Traffic Warr',\n",
       " 'Narcotic Possession',\n",
       " 'Warrant Arrest Non Traffic',\n",
       " 'Burglary Non Residence',\n",
       " 'Possession Of Marijuana',\n",
       " 'Possession of Drug',\n",
       " 'Aggravated Assault',\n",
       " 'Debit/Credit Card Abuse',\n",
       " 'Identity Theft',\n",
       " 'Assault By Threat',\n",
       " 'Theft Of Bicycle',\n",
       " 'Violation City Ordinance',\n",
       " 'Terroristic Threat',\n",
       " 'Aggravated Robbery',\n",
       " 'Fraud - Other',\n",
       " 'Forgery And Passing',\n",
       " 'Theft Of Service',\n",
       " 'Dating Disturbance',\n",
       " 'Theft From Auto',\n",
       " 'Graffiti',\n",
       " 'Voco - Alcohol  Consumption',\n",
       " 'Child Custody Interfere',\n",
       " 'Theft Of License Plate',\n",
       " 'Failure To Identify',\n",
       " 'Theft From Person',\n",
       " 'Protective Order',\n",
       " 'Viol State Law - Other',\n",
       " 'Crash/Fail Stop And Render Aid',\n",
       " 'Damage City Prop']"
      ]
     },
     "execution_count": 42,
     "metadata": {},
     "output_type": "execute_result"
    }
   ],
   "source": [
    "x = crime.groupby('crime_type').agg(Total=('crime_type','size')).sort_values(by='Total',ascending=False).reset_index()\n",
    "crime_list_6600 = x[x.Total>=6600]\n",
    "crime_list = crime_list_6600.crime_type.to_list()\n",
    "crime_list"
   ]
  },
  {
   "cell_type": "code",
   "execution_count": 57,
   "id": "1d39030e",
   "metadata": {},
   "outputs": [
    {
     "data": {
      "text/plain": [
       "(2044001, 17)"
      ]
     },
     "execution_count": 57,
     "metadata": {},
     "output_type": "execute_result"
    }
   ],
   "source": [
    "crime_df = crime[crime.crime_type.isin(crime_list)]\n",
    "crime_df.shape"
   ]
  },
  {
   "cell_type": "code",
   "execution_count": 48,
   "id": "2a9fb628",
   "metadata": {},
   "outputs": [],
   "source": [
    "xx = bnb.zip_code.value_counts().sort_index()\n",
    "bnb_zip = xx.index.to_list()"
   ]
  },
  {
   "cell_type": "code",
   "execution_count": 59,
   "id": "ddad1781",
   "metadata": {},
   "outputs": [],
   "source": [
    "crime_df = crime_df[crime_df.zip_code.isin(bnb_zip)]"
   ]
  },
  {
   "cell_type": "code",
   "execution_count": 60,
   "id": "8ab80901",
   "metadata": {},
   "outputs": [
    {
     "data": {
      "text/plain": [
       "(2012229, 17)"
      ]
     },
     "execution_count": 60,
     "metadata": {},
     "output_type": "execute_result"
    }
   ],
   "source": [
    "crime_df.shape"
   ]
  },
  {
   "cell_type": "code",
   "execution_count": null,
   "id": "fdb56e24",
   "metadata": {},
   "outputs": [],
   "source": [
    "filter = (bnb.property_type=='Room in hotel') | (bnb.room_type=='Hotel room') | (bnb.room_type=='Room in boutique hotel')\n",
    "bnb = bnb[~filter]"
   ]
  },
  {
   "cell_type": "markdown",
   "id": "c59945d0",
   "metadata": {},
   "source": [
    "Drop the row with the max price."
   ]
  },
  {
   "cell_type": "code",
   "execution_count": 58,
   "id": "c4199903",
   "metadata": {},
   "outputs": [],
   "source": [
    "bnb.drop(bnb[bnb[\"price\"]==bnb.price.max()].index,inplace=True)"
   ]
  },
  {
   "cell_type": "code",
   "execution_count": 253,
   "id": "093765e6",
   "metadata": {},
   "outputs": [
    {
     "data": {
      "text/html": [
       "<div>\n",
       "<style scoped>\n",
       "    .dataframe tbody tr th:only-of-type {\n",
       "        vertical-align: middle;\n",
       "    }\n",
       "\n",
       "    .dataframe tbody tr th {\n",
       "        vertical-align: top;\n",
       "    }\n",
       "\n",
       "    .dataframe thead th {\n",
       "        text-align: right;\n",
       "    }\n",
       "</style>\n",
       "<table border=\"1\" class=\"dataframe\">\n",
       "  <thead>\n",
       "    <tr style=\"text-align: right;\">\n",
       "      <th></th>\n",
       "      <th>id</th>\n",
       "      <th>host_id</th>\n",
       "      <th>zip_code</th>\n",
       "      <th>accommodates</th>\n",
       "      <th>bedrooms</th>\n",
       "      <th>beds</th>\n",
       "      <th>minimum_nights</th>\n",
       "      <th>rating</th>\n",
       "      <th>price</th>\n",
       "      <th>longitude</th>\n",
       "      <th>latitude</th>\n",
       "      <th>availability_365</th>\n",
       "    </tr>\n",
       "  </thead>\n",
       "  <tbody>\n",
       "    <tr>\n",
       "      <th>count</th>\n",
       "      <td>1.394800e+04</td>\n",
       "      <td>1.394800e+04</td>\n",
       "      <td>13948.000000</td>\n",
       "      <td>13948.000000</td>\n",
       "      <td>13948.000000</td>\n",
       "      <td>13948.000000</td>\n",
       "      <td>13948.000000</td>\n",
       "      <td>13948.000000</td>\n",
       "      <td>13948.000000</td>\n",
       "      <td>13948.000000</td>\n",
       "      <td>13948.000000</td>\n",
       "      <td>13948.000000</td>\n",
       "    </tr>\n",
       "    <tr>\n",
       "      <th>mean</th>\n",
       "      <td>2.655925e+17</td>\n",
       "      <td>1.334309e+08</td>\n",
       "      <td>78724.774448</td>\n",
       "      <td>4.818755</td>\n",
       "      <td>2.014482</td>\n",
       "      <td>2.621379</td>\n",
       "      <td>7.363421</td>\n",
       "      <td>4.815972</td>\n",
       "      <td>299.333883</td>\n",
       "      <td>-97.750495</td>\n",
       "      <td>30.281107</td>\n",
       "      <td>150.326355</td>\n",
       "    </tr>\n",
       "    <tr>\n",
       "      <th>std</th>\n",
       "      <td>3.485294e+17</td>\n",
       "      <td>1.492520e+08</td>\n",
       "      <td>20.641245</td>\n",
       "      <td>3.162548</td>\n",
       "      <td>1.284203</td>\n",
       "      <td>2.519836</td>\n",
       "      <td>24.920513</td>\n",
       "      <td>0.471687</td>\n",
       "      <td>465.976538</td>\n",
       "      <td>0.063032</td>\n",
       "      <td>0.064849</td>\n",
       "      <td>136.759281</td>\n",
       "    </tr>\n",
       "    <tr>\n",
       "      <th>min</th>\n",
       "      <td>5.456000e+03</td>\n",
       "      <td>2.300000e+01</td>\n",
       "      <td>78701.000000</td>\n",
       "      <td>1.000000</td>\n",
       "      <td>1.000000</td>\n",
       "      <td>1.000000</td>\n",
       "      <td>1.000000</td>\n",
       "      <td>0.000000</td>\n",
       "      <td>1.000000</td>\n",
       "      <td>-98.056630</td>\n",
       "      <td>30.078870</td>\n",
       "      <td>0.000000</td>\n",
       "    </tr>\n",
       "    <tr>\n",
       "      <th>25%</th>\n",
       "      <td>2.317079e+07</td>\n",
       "      <td>1.578249e+07</td>\n",
       "      <td>78704.000000</td>\n",
       "      <td>2.000000</td>\n",
       "      <td>1.000000</td>\n",
       "      <td>1.000000</td>\n",
       "      <td>1.000000</td>\n",
       "      <td>4.830000</td>\n",
       "      <td>107.000000</td>\n",
       "      <td>-97.770533</td>\n",
       "      <td>30.241560</td>\n",
       "      <td>0.000000</td>\n",
       "    </tr>\n",
       "    <tr>\n",
       "      <th>50%</th>\n",
       "      <td>4.944158e+07</td>\n",
       "      <td>6.292611e+07</td>\n",
       "      <td>78723.000000</td>\n",
       "      <td>4.000000</td>\n",
       "      <td>2.000000</td>\n",
       "      <td>2.000000</td>\n",
       "      <td>2.000000</td>\n",
       "      <td>4.930000</td>\n",
       "      <td>180.000000</td>\n",
       "      <td>-97.740745</td>\n",
       "      <td>30.268601</td>\n",
       "      <td>123.000000</td>\n",
       "    </tr>\n",
       "    <tr>\n",
       "      <th>75%</th>\n",
       "      <td>6.711011e+17</td>\n",
       "      <td>2.208430e+08</td>\n",
       "      <td>78745.000000</td>\n",
       "      <td>6.000000</td>\n",
       "      <td>3.000000</td>\n",
       "      <td>3.000000</td>\n",
       "      <td>3.000000</td>\n",
       "      <td>5.000000</td>\n",
       "      <td>320.000000</td>\n",
       "      <td>-97.716920</td>\n",
       "      <td>30.309522</td>\n",
       "      <td>298.250000</td>\n",
       "    </tr>\n",
       "    <tr>\n",
       "      <th>max</th>\n",
       "      <td>8.473047e+17</td>\n",
       "      <td>5.051848e+08</td>\n",
       "      <td>78759.000000</td>\n",
       "      <td>16.000000</td>\n",
       "      <td>23.000000</td>\n",
       "      <td>132.000000</td>\n",
       "      <td>1100.000000</td>\n",
       "      <td>5.000000</td>\n",
       "      <td>10450.000000</td>\n",
       "      <td>-97.560620</td>\n",
       "      <td>30.512250</td>\n",
       "      <td>365.000000</td>\n",
       "    </tr>\n",
       "  </tbody>\n",
       "</table>\n",
       "</div>"
      ],
      "text/plain": [
       "                 id       host_id      zip_code  accommodates      bedrooms  \\\n",
       "count  1.394800e+04  1.394800e+04  13948.000000  13948.000000  13948.000000   \n",
       "mean   2.655925e+17  1.334309e+08  78724.774448      4.818755      2.014482   \n",
       "std    3.485294e+17  1.492520e+08     20.641245      3.162548      1.284203   \n",
       "min    5.456000e+03  2.300000e+01  78701.000000      1.000000      1.000000   \n",
       "25%    2.317079e+07  1.578249e+07  78704.000000      2.000000      1.000000   \n",
       "50%    4.944158e+07  6.292611e+07  78723.000000      4.000000      2.000000   \n",
       "75%    6.711011e+17  2.208430e+08  78745.000000      6.000000      3.000000   \n",
       "max    8.473047e+17  5.051848e+08  78759.000000     16.000000     23.000000   \n",
       "\n",
       "               beds  minimum_nights        rating         price     longitude  \\\n",
       "count  13948.000000    13948.000000  13948.000000  13948.000000  13948.000000   \n",
       "mean       2.621379        7.363421      4.815972    299.333883    -97.750495   \n",
       "std        2.519836       24.920513      0.471687    465.976538      0.063032   \n",
       "min        1.000000        1.000000      0.000000      1.000000    -98.056630   \n",
       "25%        1.000000        1.000000      4.830000    107.000000    -97.770533   \n",
       "50%        2.000000        2.000000      4.930000    180.000000    -97.740745   \n",
       "75%        3.000000        3.000000      5.000000    320.000000    -97.716920   \n",
       "max      132.000000     1100.000000      5.000000  10450.000000    -97.560620   \n",
       "\n",
       "           latitude  availability_365  \n",
       "count  13948.000000      13948.000000  \n",
       "mean      30.281107        150.326355  \n",
       "std        0.064849        136.759281  \n",
       "min       30.078870          0.000000  \n",
       "25%       30.241560          0.000000  \n",
       "50%       30.268601        123.000000  \n",
       "75%       30.309522        298.250000  \n",
       "max       30.512250        365.000000  "
      ]
     },
     "execution_count": 253,
     "metadata": {},
     "output_type": "execute_result"
    }
   ],
   "source": [
    "bnb.describe()"
   ]
  },
  {
   "cell_type": "markdown",
   "id": "8e2a0c7e",
   "metadata": {},
   "source": [
    "Split the data set into training and testing."
   ]
  },
  {
   "cell_type": "code",
   "execution_count": null,
   "id": "5c7ce598",
   "metadata": {},
   "outputs": [],
   "source": [
    "X=bnb.drop(['id','host_id','price'],axis=1)\n",
    "y=bnb.price"
   ]
  },
  {
   "cell_type": "markdown",
   "id": "2b4491c8",
   "metadata": {},
   "source": [
    "**Let's look at the few algorithms on how they will predict the price without any hyperparameter tuning.**"
   ]
  },
  {
   "cell_type": "code",
   "execution_count": null,
   "id": "02e33667",
   "metadata": {},
   "outputs": [],
   "source": []
  },
  {
   "cell_type": "code",
   "execution_count": 256,
   "id": "0a633a95",
   "metadata": {},
   "outputs": [],
   "source": [
    "X_train, X_test, y_train, y_test = train_test_split(X, y, test_size=0.2, random_state=42)"
   ]
  },
  {
   "cell_type": "markdown",
   "id": "ae49ca89",
   "metadata": {},
   "source": [
    "## CatBoost algorithm"
   ]
  },
  {
   "cell_type": "code",
   "execution_count": 257,
   "id": "85d194a5",
   "metadata": {},
   "outputs": [],
   "source": [
    "cat_features = ['neighborhood','property_type','room_type']\n",
    "model = cb.CatBoostRegressor(iterations=100, learning_rate=0.1, random_seed=42,cat_features=cat_features)\n",
    "\n",
    "# Fit the model on the training data\n",
    "model.fit(X_train, y_train, verbose=False)\n",
    "\n",
    "# Make predictions on the test data\n",
    "y_pred = model.predict(X_test)"
   ]
  },
  {
   "cell_type": "code",
   "execution_count": 258,
   "id": "c73fde72",
   "metadata": {},
   "outputs": [
    {
     "data": {
      "text/plain": [
       "19.38665700010689"
      ]
     },
     "execution_count": 258,
     "metadata": {},
     "output_type": "execute_result"
    }
   ],
   "source": [
    "rmse = np.sqrt(mean_squared_error(y_test, y_pred, squared=False))\n",
    "rmse"
   ]
  },
  {
   "cell_type": "markdown",
   "id": "eb4cb315",
   "metadata": {},
   "source": [
    "## XGBoost"
   ]
  },
  {
   "cell_type": "markdown",
   "id": "b5dcdb3c",
   "metadata": {},
   "source": [
    "Encode the categorical data to numerical."
   ]
  },
  {
   "cell_type": "code",
   "execution_count": 261,
   "id": "22dbe83e",
   "metadata": {},
   "outputs": [],
   "source": [
    "m1 = LabelEncoder()\n",
    "mapping = ['neighborhood','property_type','room_type']\n",
    "X[mapping] = X[mapping].apply(m1.fit_transform)"
   ]
  },
  {
   "cell_type": "code",
   "execution_count": 262,
   "id": "12307968",
   "metadata": {},
   "outputs": [],
   "source": [
    "model = XGBRegressor()\n",
    "model.fit(X_train, y_train)\n",
    "y_pred = model.predict(X_test)"
   ]
  },
  {
   "cell_type": "code",
   "execution_count": 263,
   "id": "58e3e5d1",
   "metadata": {},
   "outputs": [
    {
     "data": {
      "text/plain": [
       "19.71124087049619"
      ]
     },
     "execution_count": 263,
     "metadata": {},
     "output_type": "execute_result"
    }
   ],
   "source": [
    "rmse = np.sqrt(mean_squared_error(y_test, y_pred, squared=False))\n",
    "rmse"
   ]
  },
  {
   "cell_type": "markdown",
   "id": "0dee8de4",
   "metadata": {},
   "source": [
    "## LightGBM"
   ]
  },
  {
   "cell_type": "code",
   "execution_count": 265,
   "id": "e0bf17ad",
   "metadata": {},
   "outputs": [
    {
     "name": "stdout",
     "output_type": "stream",
     "text": [
      "[LightGBM] [Warning] feature_fraction is set=0.9, colsample_bytree=1.0 will be ignored. Current value: feature_fraction=0.9\n"
     ]
    }
   ],
   "source": [
    "# Initialize the LGBMRegressor model\n",
    "model = lgb.LGBMRegressor(\n",
    "    objective='regression',\n",
    "    metric='rmse',\n",
    "    num_leaves=31,\n",
    "    learning_rate=0.1,\n",
    "    feature_fraction=0.9\n",
    ")\n",
    "\n",
    "# Train the model\n",
    "model.fit(X_train, y_train)\n",
    "\n",
    "# Make predictions on the test data\n",
    "y_pred = model.predict(X_test)"
   ]
  },
  {
   "cell_type": "code",
   "execution_count": 266,
   "id": "667d2ce2",
   "metadata": {},
   "outputs": [
    {
     "data": {
      "text/plain": [
       "19.162632211135076"
      ]
     },
     "execution_count": 266,
     "metadata": {},
     "output_type": "execute_result"
    }
   ],
   "source": [
    "rmse = np.sqrt(mean_squared_error(y_test, y_pred, squared=False))\n",
    "rms"
   ]
  },
  {
   "cell_type": "markdown",
   "id": "c72debec",
   "metadata": {},
   "source": [
    "## RandomForestRegressor"
   ]
  },
  {
   "cell_type": "code",
   "execution_count": 267,
   "id": "e0c2e7e1",
   "metadata": {},
   "outputs": [],
   "source": [
    "# Initialize the RandomForestRegressor model\n",
    "model = RandomForestRegressor(n_estimators=100, random_state=42)\n",
    "\n",
    "# Train the model\n",
    "model.fit(X_train, y_train)\n",
    "\n",
    "# Make predictions on the test data\n",
    "y_pred = model.predict(X_test)"
   ]
  },
  {
   "cell_type": "code",
   "execution_count": 268,
   "id": "2fd5fa06",
   "metadata": {},
   "outputs": [
    {
     "data": {
      "text/plain": [
       "19.991116518060462"
      ]
     },
     "execution_count": 268,
     "metadata": {},
     "output_type": "execute_result"
    }
   ],
   "source": [
    "rmse = np.sqrt(mean_squared_error(y_test, y_pred, squared=False))\n",
    "rmse"
   ]
  },
  {
   "cell_type": "markdown",
   "id": "ed77ebe6",
   "metadata": {},
   "source": [
    "## Linear Regression"
   ]
  },
  {
   "cell_type": "code",
   "execution_count": 269,
   "id": "bf85980f",
   "metadata": {},
   "outputs": [],
   "source": [
    "# Initialize the LinearRegression model\n",
    "model = LinearRegression()\n",
    "\n",
    "# Train the model\n",
    "model.fit(X_train, y_train)\n",
    "\n",
    "# Make predictions on the test data\n",
    "y_pred = model.predict(X_test)"
   ]
  },
  {
   "cell_type": "code",
   "execution_count": 270,
   "id": "c101a838",
   "metadata": {},
   "outputs": [
    {
     "data": {
      "text/plain": [
       "20.499194573752515"
      ]
     },
     "execution_count": 270,
     "metadata": {},
     "output_type": "execute_result"
    }
   ],
   "source": [
    "rmse = np.sqrt(mean_squared_error(y_test, y_pred, squared=False))\n",
    "rmse"
   ]
  },
  {
   "cell_type": "markdown",
   "id": "2b129052",
   "metadata": {},
   "source": [
    "LightGBM has low root mean squared error compared to other regression techniques.\n",
    "\n",
    "We'll merge the crime data set with airbnb's data set and do the modeling later."
   ]
  },
  {
   "cell_type": "code",
   "execution_count": null,
   "id": "7b9bb8de",
   "metadata": {},
   "outputs": [],
   "source": []
  },
  {
   "cell_type": "code",
   "execution_count": 19,
   "id": "75b54c27",
   "metadata": {},
   "outputs": [],
   "source": []
  },
  {
   "cell_type": "code",
   "execution_count": 138,
   "id": "53eec5a3",
   "metadata": {},
   "outputs": [],
   "source": []
  },
  {
   "cell_type": "code",
   "execution_count": null,
   "id": "459c6cdd",
   "metadata": {},
   "outputs": [],
   "source": []
  },
  {
   "cell_type": "code",
   "execution_count": null,
   "id": "89a648e6",
   "metadata": {},
   "outputs": [],
   "source": []
  },
  {
   "cell_type": "code",
   "execution_count": 239,
   "id": "271ded23",
   "metadata": {},
   "outputs": [],
   "source": []
  },
  {
   "cell_type": "code",
   "execution_count": 169,
   "id": "bc49433e",
   "metadata": {},
   "outputs": [],
   "source": []
  },
  {
   "cell_type": "code",
   "execution_count": 170,
   "id": "d468d37b",
   "metadata": {},
   "outputs": [],
   "source": []
  },
  {
   "cell_type": "code",
   "execution_count": 229,
   "id": "f014eaa7",
   "metadata": {},
   "outputs": [],
   "source": []
  },
  {
   "cell_type": "code",
   "execution_count": 230,
   "id": "3f5831af",
   "metadata": {},
   "outputs": [],
   "source": []
  },
  {
   "cell_type": "code",
   "execution_count": null,
   "id": "76ed88a7",
   "metadata": {},
   "outputs": [],
   "source": []
  },
  {
   "cell_type": "code",
   "execution_count": null,
   "id": "faff1ef2",
   "metadata": {},
   "outputs": [],
   "source": []
  },
  {
   "cell_type": "code",
   "execution_count": 176,
   "id": "8dc65e13",
   "metadata": {},
   "outputs": [],
   "source": []
  },
  {
   "cell_type": "code",
   "execution_count": null,
   "id": "493d0af0",
   "metadata": {},
   "outputs": [],
   "source": []
  },
  {
   "cell_type": "code",
   "execution_count": 217,
   "id": "0ab78118",
   "metadata": {},
   "outputs": [],
   "source": []
  },
  {
   "cell_type": "code",
   "execution_count": null,
   "id": "05499d19",
   "metadata": {},
   "outputs": [],
   "source": []
  },
  {
   "cell_type": "code",
   "execution_count": null,
   "id": "0c47d315",
   "metadata": {},
   "outputs": [],
   "source": []
  },
  {
   "cell_type": "code",
   "execution_count": 237,
   "id": "96edf230",
   "metadata": {},
   "outputs": [],
   "source": []
  },
  {
   "cell_type": "code",
   "execution_count": null,
   "id": "244a3ccd",
   "metadata": {},
   "outputs": [],
   "source": []
  },
  {
   "cell_type": "code",
   "execution_count": null,
   "id": "875a1262",
   "metadata": {},
   "outputs": [],
   "source": []
  },
  {
   "cell_type": "code",
   "execution_count": null,
   "id": "8191fdc7",
   "metadata": {},
   "outputs": [],
   "source": []
  },
  {
   "cell_type": "code",
   "execution_count": null,
   "id": "fea37ccb",
   "metadata": {},
   "outputs": [],
   "source": []
  },
  {
   "cell_type": "code",
   "execution_count": null,
   "id": "0ab2a303",
   "metadata": {},
   "outputs": [],
   "source": []
  },
  {
   "cell_type": "code",
   "execution_count": null,
   "id": "1f4f75d8",
   "metadata": {},
   "outputs": [],
   "source": []
  },
  {
   "cell_type": "code",
   "execution_count": null,
   "id": "5b75045a",
   "metadata": {},
   "outputs": [],
   "source": []
  },
  {
   "cell_type": "code",
   "execution_count": 242,
   "id": "e68a20f7",
   "metadata": {},
   "outputs": [],
   "source": []
  },
  {
   "cell_type": "code",
   "execution_count": null,
   "id": "54c1c0f9",
   "metadata": {},
   "outputs": [],
   "source": []
  },
  {
   "cell_type": "code",
   "execution_count": null,
   "id": "aee75809",
   "metadata": {},
   "outputs": [],
   "source": []
  },
  {
   "cell_type": "code",
   "execution_count": null,
   "id": "61718787",
   "metadata": {},
   "outputs": [],
   "source": []
  },
  {
   "cell_type": "code",
   "execution_count": 137,
   "id": "873d4946",
   "metadata": {},
   "outputs": [],
   "source": []
  },
  {
   "cell_type": "code",
   "execution_count": 246,
   "id": "0e2d88a5",
   "metadata": {},
   "outputs": [],
   "source": []
  },
  {
   "cell_type": "code",
   "execution_count": 247,
   "id": "9939fdd6",
   "metadata": {},
   "outputs": [],
   "source": []
  },
  {
   "cell_type": "code",
   "execution_count": null,
   "id": "77af2a67",
   "metadata": {},
   "outputs": [],
   "source": []
  },
  {
   "cell_type": "code",
   "execution_count": null,
   "id": "2952b542",
   "metadata": {},
   "outputs": [],
   "source": []
  },
  {
   "cell_type": "code",
   "execution_count": 249,
   "id": "d8dcbee5",
   "metadata": {},
   "outputs": [],
   "source": []
  },
  {
   "cell_type": "code",
   "execution_count": 250,
   "id": "71507900",
   "metadata": {},
   "outputs": [],
   "source": []
  },
  {
   "cell_type": "code",
   "execution_count": null,
   "id": "e94af826",
   "metadata": {},
   "outputs": [],
   "source": []
  },
  {
   "cell_type": "code",
   "execution_count": null,
   "id": "39a65811",
   "metadata": {},
   "outputs": [],
   "source": []
  },
  {
   "cell_type": "code",
   "execution_count": 188,
   "id": "9e990361",
   "metadata": {},
   "outputs": [],
   "source": []
  },
  {
   "cell_type": "code",
   "execution_count": null,
   "id": "4e6cbcb0",
   "metadata": {},
   "outputs": [],
   "source": []
  },
  {
   "cell_type": "code",
   "execution_count": null,
   "id": "56d6742c",
   "metadata": {},
   "outputs": [],
   "source": []
  },
  {
   "cell_type": "code",
   "execution_count": null,
   "id": "a2815489",
   "metadata": {},
   "outputs": [],
   "source": []
  },
  {
   "cell_type": "code",
   "execution_count": null,
   "id": "9d357a77",
   "metadata": {},
   "outputs": [],
   "source": []
  },
  {
   "cell_type": "code",
   "execution_count": 126,
   "id": "0d7f905d",
   "metadata": {},
   "outputs": [],
   "source": []
  },
  {
   "cell_type": "code",
   "execution_count": null,
   "id": "04850b8a",
   "metadata": {},
   "outputs": [],
   "source": []
  },
  {
   "cell_type": "code",
   "execution_count": 239,
   "id": "44c2fd93",
   "metadata": {},
   "outputs": [],
   "source": []
  },
  {
   "cell_type": "code",
   "execution_count": null,
   "id": "71ceac6d",
   "metadata": {},
   "outputs": [],
   "source": []
  },
  {
   "cell_type": "code",
   "execution_count": 241,
   "id": "60667175",
   "metadata": {},
   "outputs": [],
   "source": []
  },
  {
   "cell_type": "code",
   "execution_count": null,
   "id": "4825e9b5",
   "metadata": {},
   "outputs": [],
   "source": []
  }
 ],
 "metadata": {
  "kernelspec": {
   "display_name": "Python 3 (ipykernel)",
   "language": "python",
   "name": "python3"
  },
  "language_info": {
   "codemirror_mode": {
    "name": "ipython",
    "version": 3
   },
   "file_extension": ".py",
   "mimetype": "text/x-python",
   "name": "python",
   "nbconvert_exporter": "python",
   "pygments_lexer": "ipython3",
   "version": "3.9.13"
  }
 },
 "nbformat": 4,
 "nbformat_minor": 5
}
